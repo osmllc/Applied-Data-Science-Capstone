{
 "cells": [
  {
   "cell_type": "code",
   "execution_count": null,
   "id": "b3b29c14-eb63-4ec0-993d-3186d69cec41",
   "metadata": {
    "tags": []
   },
   "outputs": [],
   "source": [
    "!pip install sqlalchemy==1.3.9\n"
   ]
  },
  {
   "cell_type": "code",
   "execution_count": null,
   "id": "747d1bda-8fb6-472e-a7fd-0ca115ee4f0b",
   "metadata": {
    "tags": []
   },
   "outputs": [],
   "source": [
    "#Please uncomment and execute the code below if you are working locally.\n",
    "\n",
    "!pip install ipython-sql\n"
   ]
  },
  {
   "cell_type": "code",
   "execution_count": null,
   "id": "9d8bb9dd-5a8a-4e54-849d-ee0e5a06acbc",
   "metadata": {
    "tags": []
   },
   "outputs": [],
   "source": [
    "%load_ext sql"
   ]
  },
  {
   "cell_type": "code",
   "execution_count": null,
   "id": "041ce146-8188-4d13-8c5e-7da581565c09",
   "metadata": {
    "tags": []
   },
   "outputs": [],
   "source": [
    "import csv, sqlite3\n",
    "\n",
    "con = sqlite3.connect(\"my_data1.db\")\n",
    "cur = con.cursor()"
   ]
  },
  {
   "cell_type": "code",
   "execution_count": null,
   "id": "3aceabd5-aab2-4b74-9b15-71d4a6611d00",
   "metadata": {
    "tags": []
   },
   "outputs": [],
   "source": [
    "!pip install -q pandas==1.1.5"
   ]
  },
  {
   "cell_type": "code",
   "execution_count": null,
   "id": "a9219444-d278-4b04-80f9-75018e7a778f",
   "metadata": {
    "tags": []
   },
   "outputs": [],
   "source": [
    "%sql sqlite:///my_data1.db"
   ]
  },
  {
   "cell_type": "code",
   "execution_count": null,
   "id": "2bf181b7-587b-4b86-b106-ba8755283b0b",
   "metadata": {
    "tags": []
   },
   "outputs": [],
   "source": [
    "import pandas as pd\n",
    "df = pd.read_csv(\"https://cf-courses-data.s3.us.cloud-object-storage.appdomain.cloud/IBM-DS0321EN-SkillsNetwork/labs/module_2/data/Spacex.csv\")\n",
    "df.to_sql(\"SPACEXTBL\", con, if_exists='replace', index=False,method=\"multi\")"
   ]
  },
  {
   "cell_type": "code",
   "execution_count": 51,
   "id": "382bcc0a-a419-45a3-8ee7-1886400d4637",
   "metadata": {
    "tags": []
   },
   "outputs": [
    {
     "data": {
      "text/plain": [
       "Index(['Date', 'Time (UTC)', 'Booster_Version', 'Launch_Site', 'Payload',\n",
       "       'PAYLOAD_MASS__KG_', 'Orbit', 'Customer', 'Mission_Outcome',\n",
       "       'Landing_Outcome'],\n",
       "      dtype='object')"
      ]
     },
     "execution_count": 51,
     "metadata": {},
     "output_type": "execute_result"
    }
   ],
   "source": [
    "df.columns"
   ]
  },
  {
   "cell_type": "markdown",
   "id": "4c7fcbf2-49ff-429f-999c-baef807bd852",
   "metadata": {},
   "source": [
    "**Note:This below code is added to remove blank rows from table**\n"
   ]
  },
  {
   "cell_type": "code",
   "execution_count": 53,
   "id": "5a733fca-4872-4342-92ea-321a18735769",
   "metadata": {
    "tags": []
   },
   "outputs": [
    {
     "name": "stdout",
     "output_type": "stream",
     "text": [
      " * sqlite:///my_data1.db\n",
      "(sqlite3.OperationalError) table SPACEXTABLE already exists\n",
      "[SQL: create table SPACEXTABLE as select * from SPACEXTBL where Date is not null]\n",
      "(Background on this error at: http://sqlalche.me/e/e3q8)\n"
     ]
    }
   ],
   "source": [
    "%sql create table SPACEXTABLE as select * from SPACEXTBL where Date is not null"
   ]
  },
  {
   "cell_type": "markdown",
   "id": "5e75b8d5-f6c6-4d28-82dd-d8c77f2a7c6f",
   "metadata": {},
   "source": [
    "Tasks\n",
    "Now write and execute SQL queries to solve the assignment tasks.\n",
    "\n",
    "Note: If the column names are in mixed case enclose it in double quotes For Example \"Landing_Outcome\"\n",
    "\n",
    "Task 1\n",
    "Display the names of the unique launch sites in the space mission"
   ]
  },
  {
   "cell_type": "code",
   "execution_count": 54,
   "id": "733eade5-0137-4ab6-b380-c839f6610e27",
   "metadata": {
    "tags": []
   },
   "outputs": [
    {
     "name": "stdout",
     "output_type": "stream",
     "text": [
      "['CCAFS LC-40' 'VAFB SLC-4E' 'KSC LC-39A' 'CCAFS SLC-40']\n"
     ]
    }
   ],
   "source": [
    "# Display the unique launch sites\n",
    "unique_launch_sites = df['Launch_Site'].unique()\n",
    "print(unique_launch_sites)"
   ]
  },
  {
   "cell_type": "markdown",
   "id": "f0cdfe8b-cbd0-41d9-9495-fc4148bed866",
   "metadata": {},
   "source": [
    "Task 2\n",
    "Display 5 records where launch sites begin with the string 'CCA'"
   ]
  },
  {
   "cell_type": "code",
   "execution_count": 55,
   "id": "cd73d41f-c920-493e-878a-24cec44e7c20",
   "metadata": {
    "tags": []
   },
   "outputs": [
    {
     "name": "stdout",
     "output_type": "stream",
     "text": [
      "Requirement already satisfied: pandas in /home/jupyterlab/conda/envs/python/lib/python3.7/site-packages (1.3.5)\n",
      "Requirement already satisfied: python-dateutil>=2.7.3 in /home/jupyterlab/conda/envs/python/lib/python3.7/site-packages (from pandas) (2.8.2)\n",
      "Requirement already satisfied: pytz>=2017.3 in /home/jupyterlab/conda/envs/python/lib/python3.7/site-packages (from pandas) (2023.3)\n",
      "Requirement already satisfied: numpy>=1.17.3 in /home/jupyterlab/conda/envs/python/lib/python3.7/site-packages (from pandas) (1.21.6)\n",
      "Requirement already satisfied: six>=1.5 in /home/jupyterlab/conda/envs/python/lib/python3.7/site-packages (from python-dateutil>=2.7.3->pandas) (1.16.0)\n"
     ]
    }
   ],
   "source": [
    "!pip install --upgrade pandas\n"
   ]
  },
  {
   "cell_type": "code",
   "execution_count": 56,
   "id": "8d9852bb-498f-45db-9b4b-8e6185624d41",
   "metadata": {
    "tags": []
   },
   "outputs": [
    {
     "name": "stdout",
     "output_type": "stream",
     "text": [
      "         Date Time (UTC) Booster_Version  Launch_Site  \\\n",
      "0  2010-06-04   18:45:00  F9 v1.0  B0003  CCAFS LC-40   \n",
      "1  2010-12-08   15:43:00  F9 v1.0  B0004  CCAFS LC-40   \n",
      "2  2012-05-22    7:44:00  F9 v1.0  B0005  CCAFS LC-40   \n",
      "3  2012-10-08    0:35:00  F9 v1.0  B0006  CCAFS LC-40   \n",
      "4  2013-03-01   15:10:00  F9 v1.0  B0007  CCAFS LC-40   \n",
      "\n",
      "                                             Payload  PAYLOAD_MASS__KG_  \\\n",
      "0               Dragon Spacecraft Qualification Unit                  0   \n",
      "1  Dragon demo flight C1, two CubeSats, barrel of...                  0   \n",
      "2                              Dragon demo flight C2                525   \n",
      "3                                       SpaceX CRS-1                500   \n",
      "4                                       SpaceX CRS-2                677   \n",
      "\n",
      "       Orbit         Customer Mission_Outcome      Landing_Outcome  \n",
      "0        LEO           SpaceX         Success  Failure (parachute)  \n",
      "1  LEO (ISS)  NASA (COTS) NRO         Success  Failure (parachute)  \n",
      "2  LEO (ISS)      NASA (COTS)         Success           No attempt  \n",
      "3  LEO (ISS)       NASA (CRS)         Success           No attempt  \n",
      "4  LEO (ISS)       NASA (CRS)         Success           No attempt  \n"
     ]
    }
   ],
   "source": [
    "# Filter the dataframe\n",
    "filtered_df = df[df['Launch_Site'].str.startswith('CCA')]\n",
    "\n",
    "# Display the first 5 records\n",
    "print(filtered_df.head(5))"
   ]
  },
  {
   "cell_type": "code",
   "execution_count": 66,
   "id": "3fab476c-00bf-46a8-86f1-186eb6b317eb",
   "metadata": {
    "tags": []
   },
   "outputs": [
    {
     "name": "stdout",
     "output_type": "stream",
     "text": [
      "['CCAFS LC-40' 'VAFB SLC-4E' 'KSC LC-39A' 'CCAFS SLC-40']\n"
     ]
    }
   ],
   "source": [
    "# Display the unique launch sites\n",
    "unique_launch_sites = df['Launch_Site'].unique()\n",
    "print(unique_launch_sites)\n"
   ]
  },
  {
   "cell_type": "markdown",
   "id": "03eeb7f1-edd8-4c7f-aa3a-6659d7063004",
   "metadata": {},
   "source": [
    "Task 3\n",
    "Display the total payload mass carried by boosters launched by NASA (CRS)"
   ]
  },
  {
   "cell_type": "code",
   "execution_count": 57,
   "id": "69cfa1b8-f632-4e9d-8d0e-973b506e21de",
   "metadata": {
    "tags": []
   },
   "outputs": [
    {
     "name": "stdout",
     "output_type": "stream",
     "text": [
      "The total payload mass carried by boosters launched by NASA (CRS) is 45596 kg.\n"
     ]
    }
   ],
   "source": [
    "# Filter the dataframe for rows where the 'Customer' is 'NASA (CRS)'\n",
    "nasa_crs_df = df[df['Customer'] == 'NASA (CRS)']\n",
    "\n",
    "# Calculate the total payload mass\n",
    "total_payload_mass = nasa_crs_df['PAYLOAD_MASS__KG_'].sum()\n",
    "\n",
    "print(f\"The total payload mass carried by boosters launched by NASA (CRS) is {total_payload_mass} kg.\")\n"
   ]
  },
  {
   "cell_type": "markdown",
   "id": "b4d727ea-d416-45ef-8504-3360cfdb5b4f",
   "metadata": {},
   "source": [
    "Task 4\n",
    "Display average payload mass carried by booster version F9 v1.1"
   ]
  },
  {
   "cell_type": "code",
   "execution_count": 58,
   "id": "f22cfe08-625a-4892-9622-1cf35b0340e0",
   "metadata": {
    "tags": []
   },
   "outputs": [
    {
     "name": "stdout",
     "output_type": "stream",
     "text": [
      "The average payload mass carried by booster version F9 v1.1 is 2928.4 kg.\n"
     ]
    }
   ],
   "source": [
    "# Filter the dataframe for rows where the 'Booster Version' is 'F9 v1.1'\n",
    "f9_v1_1_df = df[df['Booster_Version'] == 'F9 v1.1']\n",
    "\n",
    "# Calculate the average payload mass\n",
    "average_payload_mass = f9_v1_1_df['PAYLOAD_MASS__KG_'].mean()\n",
    "\n",
    "print(f\"The average payload mass carried by booster version F9 v1.1 is {average_payload_mass} kg.\")\n"
   ]
  },
  {
   "cell_type": "markdown",
   "id": "dcee499c-bd3b-462f-a952-6519f0f34bb8",
   "metadata": {},
   "source": [
    "Task 5\n",
    "List the date when the first successful landing outcome in ground pad was acheived.\n",
    "Hint:Use min function"
   ]
  },
  {
   "cell_type": "code",
   "execution_count": 59,
   "id": "20eb1bd6-bfc0-4c7c-9fc7-4240211b8fea",
   "metadata": {
    "tags": []
   },
   "outputs": [
    {
     "name": "stdout",
     "output_type": "stream",
     "text": [
      "The first successful landing outcome in ground pad was achieved on 2015-12-22.\n"
     ]
    }
   ],
   "source": [
    "# Filter the dataframe for rows where the 'Landing Outcome' is 'Success (ground pad)'\n",
    "success_ground_pad_df = df[df['Landing_Outcome'] == 'Success (ground pad)']\n",
    "\n",
    "# Find the earliest date\n",
    "first_success_date = success_ground_pad_df['Date'].min()\n",
    "\n",
    "print(f\"The first successful landing outcome in ground pad was achieved on {first_success_date}.\")\n"
   ]
  },
  {
   "cell_type": "markdown",
   "id": "3ef10254-f651-4a75-81c5-d13ee5250b74",
   "metadata": {},
   "source": [
    "Task 6\n",
    "List the names of the boosters which have success in drone ship and have payload mass greater than 4000 \n",
    "but less than 6000"
   ]
  },
  {
   "cell_type": "code",
   "execution_count": 60,
   "id": "e1ee3149-3d3b-4ccf-90e6-724c7460f713",
   "metadata": {
    "tags": []
   },
   "outputs": [
    {
     "name": "stdout",
     "output_type": "stream",
     "text": [
      "The names of the boosters which have success in drone ship and have payload mass greater than 4000 but less than 6000 are:\n",
      "F9 FT B1022\n",
      "F9 FT B1026\n",
      "F9 FT  B1021.2\n",
      "F9 FT  B1031.2\n"
     ]
    }
   ],
   "source": [
    "#Filter the dataframe for rows where 'Booster_Version' is >\n",
    "\n",
    "# Filter the dataframe for rows where the 'Landing Outcome' is 'Success (drone ship)'\n",
    "# and 'Payload Mass (kg)' is greater than 4000 but less than 6000\n",
    "filtered_df = df[(df['Landing_Outcome'] == 'Success (drone ship)') & \n",
    "                 (df['PAYLOAD_MASS__KG_'] > 4000) & \n",
    "                 (df['PAYLOAD_MASS__KG_'] < 6000)]\n",
    "\n",
    "# Get the unique booster names\n",
    "unique_booster_names = filtered_df['Booster_Version'].unique()\n",
    "\n",
    "print(\"The names of the boosters which have success in drone ship and have payload mass greater than 4000 but less than 6000 are:\")\n",
    "for name in unique_booster_names:\n",
    "    print(name)\n"
   ]
  },
  {
   "cell_type": "markdown",
   "id": "6fb749d4-09aa-4ad4-ad65-aae136e6c3ea",
   "metadata": {},
   "source": [
    "Task 7\n",
    "List the total number of successful and failure mission outcomes"
   ]
  },
  {
   "cell_type": "code",
   "execution_count": 61,
   "id": "c07e402d-6929-4eab-9514-8ae5894c9ff5",
   "metadata": {
    "tags": []
   },
   "outputs": [
    {
     "name": "stdout",
     "output_type": "stream",
     "text": [
      "Success                             98\n",
      "Failure (in flight)                  1\n",
      "Success (payload status unclear)     1\n",
      "Success                              1\n",
      "Name: Mission_Outcome, dtype: int64\n"
     ]
    }
   ],
   "source": [
    "# Get the counts of each unique value in the 'Mission Outcome' column\n",
    "mission_outcomes = df['Mission_Outcome'].value_counts()\n",
    "\n",
    "# Print the counts\n",
    "print(mission_outcomes)\n"
   ]
  },
  {
   "cell_type": "code",
   "execution_count": 62,
   "id": "7af794a7-9c44-4350-aac2-874f4ffc1af0",
   "metadata": {
    "tags": []
   },
   "outputs": [
    {
     "name": "stdout",
     "output_type": "stream",
     "text": [
      "Total number of successful missions: 98\n",
      "Total number of failure missions: 1\n"
     ]
    }
   ],
   "source": [
    "# Get the count of successful missions\n",
    "success_count = (df['Mission_Outcome'] == 'Success').sum()\n",
    "\n",
    "# Get the count of failure missions\n",
    "failure_count = (df['Mission_Outcome'] == 'Failure (in flight)').sum()\n",
    "\n",
    "print(f\"Total number of successful missions: {success_count}\")\n",
    "print(f\"Total number of failure missions: {failure_count}\")\n"
   ]
  },
  {
   "cell_type": "markdown",
   "id": "18264a7b-0e19-4603-bf15-f28c549159cf",
   "metadata": {},
   "source": [
    "Task 8\n",
    "List the names of the booster_versions which have carried the maximum payload mass. Use a subquery"
   ]
  },
  {
   "cell_type": "code",
   "execution_count": 63,
   "id": "0407302f-c1a1-4a90-8a97-5a413af67169",
   "metadata": {
    "tags": []
   },
   "outputs": [
    {
     "name": "stdout",
     "output_type": "stream",
     "text": [
      "('F9 B5 B1048.4',)\n",
      "('F9 B5 B1049.4',)\n",
      "('F9 B5 B1051.3',)\n",
      "('F9 B5 B1056.4',)\n",
      "('F9 B5 B1048.5',)\n",
      "('F9 B5 B1051.4',)\n",
      "('F9 B5 B1049.5',)\n",
      "('F9 B5 B1060.2 ',)\n",
      "('F9 B5 B1058.3 ',)\n",
      "('F9 B5 B1051.6',)\n",
      "('F9 B5 B1060.3',)\n",
      "('F9 B5 B1049.7 ',)\n"
     ]
    }
   ],
   "source": [
    "#List booster names which have carried the maximum payload\n",
    "\n",
    "# Write your SQL query\n",
    "query = \"\"\"\n",
    "SELECT \"Booster_Version\"\n",
    "FROM SPACEXTBL\n",
    "WHERE \"PAYLOAD_MASS__KG_\" = (\n",
    "    SELECT MAX(\"PAYLOAD_MASS__KG_\")\n",
    "    FROM SPACEXTBL\n",
    ")\n",
    "\"\"\"\n",
    "\n",
    "# Execute the query\n",
    "cur.execute(query)\n",
    "\n",
    "# Fetch all the results\n",
    "results = cur.fetchall()\n",
    "\n",
    "# Print the results\n",
    "for result in results:\n",
    "    print(result)"
   ]
  },
  {
   "cell_type": "markdown",
   "id": "0658ae12-fa61-4f27-8495-52a0dade065d",
   "metadata": {},
   "source": [
    "Task 9\n",
    "List the records which will display the month names, failure landing_outcomes in drone ship ,booster versions, launch_site for the months in year 2015.\n",
    "Note: SQLLite does not support monthnames. So you need to use substr(Date, 6,2) as month to get the months and substr(Date,0,5)='2015' for year."
   ]
  },
  {
   "cell_type": "code",
   "execution_count": 64,
   "id": "92679cd2-33ac-4c53-8790-74d479b2f569",
   "metadata": {
    "tags": []
   },
   "outputs": [
    {
     "name": "stdout",
     "output_type": "stream",
     "text": [
      "('01', 'F9 v1.1 B1012', 'CCAFS LC-40', 'Failure (drone ship)')\n",
      "('04', 'F9 v1.1 B1015', 'CCAFS LC-40', 'Failure (drone ship)')\n"
     ]
    }
   ],
   "source": [
    "# Write your SQL query\n",
    "query = \"\"\"\n",
    "SELECT substr(Date, 6, 2) AS Month, \"Booster_Version\", \"Launch_Site\", \"Landing_Outcome\"\n",
    "FROM SPACEXTBL\n",
    "WHERE substr(Date, 0, 5) = '2015' AND \"Landing_Outcome\" LIKE 'Failure (drone ship)'\n",
    "\"\"\"\n",
    "\n",
    "# Execute the query\n",
    "cur.execute(query)\n",
    "\n",
    "# Fetch all the results\n",
    "results = cur.fetchall()\n",
    "\n",
    "# Print the results\n",
    "for result in results:\n",
    "    print(result)"
   ]
  },
  {
   "cell_type": "markdown",
   "id": "52c45e1a-492b-4252-869f-0023b5776388",
   "metadata": {},
   "source": [
    "Task 10\n",
    "Rank the count of landing outcomes (such as Failure (drone ship) or Success (ground pad)) between the date 2010-06-04 and 2017-03-20, in descending order."
   ]
  },
  {
   "cell_type": "code",
   "execution_count": 65,
   "id": "7f965c21-dc45-4427-8647-78f634806c66",
   "metadata": {
    "tags": []
   },
   "outputs": [
    {
     "name": "stdout",
     "output_type": "stream",
     "text": [
      "('No attempt', 10)\n",
      "('Success (drone ship)', 5)\n",
      "('Failure (drone ship)', 5)\n",
      "('Success (ground pad)', 3)\n",
      "('Controlled (ocean)', 3)\n",
      "('Uncontrolled (ocean)', 2)\n",
      "('Failure (parachute)', 2)\n",
      "('Precluded (drone ship)', 1)\n"
     ]
    }
   ],
   "source": [
    "# Write your SQL query\n",
    "query = \"\"\"\n",
    "SELECT \"Landing_Outcome\", COUNT(*) as Count\n",
    "FROM SPACEXTBL\n",
    "WHERE Date BETWEEN '2010-06-04' AND '2017-03-20'\n",
    "GROUP BY \"Landing_Outcome\"\n",
    "ORDER BY Count DESC\n",
    "\"\"\"\n",
    "\n",
    "# Execute the query\n",
    "cur.execute(query)\n",
    "\n",
    "# Fetch all the results\n",
    "results = cur.fetchall()\n",
    "\n",
    "# Print the results\n",
    "for result in results:\n",
    "    print(result)"
   ]
  },
  {
   "cell_type": "code",
   "execution_count": null,
   "id": "31c133fc-2944-43c9-831c-ca538b6048d1",
   "metadata": {},
   "outputs": [],
   "source": []
  }
 ],
 "metadata": {
  "kernelspec": {
   "display_name": "Python",
   "language": "python",
   "name": "conda-env-python-py"
  },
  "language_info": {
   "codemirror_mode": {
    "name": "ipython",
    "version": 3
   },
   "file_extension": ".py",
   "mimetype": "text/x-python",
   "name": "python",
   "nbconvert_exporter": "python",
   "pygments_lexer": "ipython3",
   "version": "3.7.12"
  }
 },
 "nbformat": 4,
 "nbformat_minor": 5
}
